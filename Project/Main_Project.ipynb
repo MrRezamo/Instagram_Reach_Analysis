{
  "cells": [
    {
      "cell_type": "markdown",
      "metadata": {},
      "source": [
        "# Instagram Reach Analysis"
      ]
    },
    {
      "cell_type": "markdown",
      "metadata": {},
      "source": [
        "# Description"
      ]
    },
    {
      "cell_type": "markdown",
      "metadata": {},
      "source": []
    },
    {
      "cell_type": "markdown",
      "metadata": {},
      "source": [
        "# Importing Essential Python Libraries"
      ]
    },
    {
      "cell_type": "code",
      "execution_count": 2,
      "metadata": {
        "id": "kAy6NRCoiALQ"
      },
      "outputs": [
        {
          "name": "stdout",
          "output_type": "stream",
          "text": [
            "All of the libraries loaded\n"
          ]
        }
      ],
      "source": [
        "import pandas as pd\n",
        "import numpy as np\n",
        "\n",
        "import matplotlib as plt\n",
        "import seaborn as sns\n",
        "%matplotlib inline\n",
        "\n",
        "import sys\n",
        "sys.path.append(r'D:\\Data_Projects\\Instagram_Reach_Analysis\\Instagram_Reach_Analysis\\Src\\Lib')\n",
        "from helper_functions import *\n",
        "\n",
        "import warnings\n",
        "warnings.filterwarnings('ignore')\n",
        "\n",
        "print('All of the libraries loaded')"
      ]
    },
    {
      "cell_type": "markdown",
      "metadata": {},
      "source": [
        "# Loading CSV Dataset"
      ]
    },
    {
      "cell_type": "code",
      "execution_count": 3,
      "metadata": {
        "id": "6nITEEKSijiE"
      },
      "outputs": [],
      "source": [
        "path = r'D:\\Data_Projects\\Instagram_Reach_Analysis\\Instagram_Reach_Analysis\\Src\\Data\\Instagram data.csv'"
      ]
    },
    {
      "cell_type": "code",
      "execution_count": 4,
      "metadata": {
        "id": "6cc5ocuijCGD"
      },
      "outputs": [],
      "source": [
        "data = pd.read_csv(path, encoding='latin1')"
      ]
    },
    {
      "cell_type": "markdown",
      "metadata": {},
      "source": [
        "# General Information"
      ]
    },
    {
      "cell_type": "code",
      "execution_count": 5,
      "metadata": {
        "colab": {
          "base_uri": "https://localhost:8080/",
          "height": 642
        },
        "id": "F1WeFFuFjGSE",
        "outputId": "14d1f96b-557b-45ac-d9b3-c667c733cfb7"
      },
      "outputs": [
        {
          "data": {
            "text/html": [
              "<div>\n",
              "<style scoped>\n",
              "    .dataframe tbody tr th:only-of-type {\n",
              "        vertical-align: middle;\n",
              "    }\n",
              "\n",
              "    .dataframe tbody tr th {\n",
              "        vertical-align: top;\n",
              "    }\n",
              "\n",
              "    .dataframe thead th {\n",
              "        text-align: right;\n",
              "    }\n",
              "</style>\n",
              "<table border=\"1\" class=\"dataframe\">\n",
              "  <thead>\n",
              "    <tr style=\"text-align: right;\">\n",
              "      <th></th>\n",
              "      <th>Impressions</th>\n",
              "      <th>From Home</th>\n",
              "      <th>From Hashtags</th>\n",
              "      <th>From Explore</th>\n",
              "      <th>From Other</th>\n",
              "      <th>Saves</th>\n",
              "      <th>Comments</th>\n",
              "      <th>Shares</th>\n",
              "      <th>Likes</th>\n",
              "      <th>Profile Visits</th>\n",
              "      <th>Follows</th>\n",
              "      <th>Caption</th>\n",
              "      <th>Hashtags</th>\n",
              "    </tr>\n",
              "  </thead>\n",
              "  <tbody>\n",
              "    <tr>\n",
              "      <th>0</th>\n",
              "      <td>3920</td>\n",
              "      <td>2586</td>\n",
              "      <td>1028</td>\n",
              "      <td>619</td>\n",
              "      <td>56</td>\n",
              "      <td>98</td>\n",
              "      <td>9</td>\n",
              "      <td>5</td>\n",
              "      <td>162</td>\n",
              "      <td>35</td>\n",
              "      <td>2</td>\n",
              "      <td>Here are some of the most important data visua...</td>\n",
              "      <td>#finance #money #business #investing #investme...</td>\n",
              "    </tr>\n",
              "    <tr>\n",
              "      <th>1</th>\n",
              "      <td>5394</td>\n",
              "      <td>2727</td>\n",
              "      <td>1838</td>\n",
              "      <td>1174</td>\n",
              "      <td>78</td>\n",
              "      <td>194</td>\n",
              "      <td>7</td>\n",
              "      <td>14</td>\n",
              "      <td>224</td>\n",
              "      <td>48</td>\n",
              "      <td>10</td>\n",
              "      <td>Here are some of the best data science project...</td>\n",
              "      <td>#healthcare #health #covid #data #datascience ...</td>\n",
              "    </tr>\n",
              "    <tr>\n",
              "      <th>2</th>\n",
              "      <td>4021</td>\n",
              "      <td>2085</td>\n",
              "      <td>1188</td>\n",
              "      <td>0</td>\n",
              "      <td>533</td>\n",
              "      <td>41</td>\n",
              "      <td>11</td>\n",
              "      <td>1</td>\n",
              "      <td>131</td>\n",
              "      <td>62</td>\n",
              "      <td>12</td>\n",
              "      <td>Learn how to train a machine learning model an...</td>\n",
              "      <td>#data #datascience #dataanalysis #dataanalytic...</td>\n",
              "    </tr>\n",
              "    <tr>\n",
              "      <th>3</th>\n",
              "      <td>4528</td>\n",
              "      <td>2700</td>\n",
              "      <td>621</td>\n",
              "      <td>932</td>\n",
              "      <td>73</td>\n",
              "      <td>172</td>\n",
              "      <td>10</td>\n",
              "      <td>7</td>\n",
              "      <td>213</td>\n",
              "      <td>23</td>\n",
              "      <td>8</td>\n",
              "      <td>Heres how you can write a Python program to d...</td>\n",
              "      <td>#python #pythonprogramming #pythonprojects #py...</td>\n",
              "    </tr>\n",
              "    <tr>\n",
              "      <th>4</th>\n",
              "      <td>2518</td>\n",
              "      <td>1704</td>\n",
              "      <td>255</td>\n",
              "      <td>279</td>\n",
              "      <td>37</td>\n",
              "      <td>96</td>\n",
              "      <td>5</td>\n",
              "      <td>4</td>\n",
              "      <td>123</td>\n",
              "      <td>8</td>\n",
              "      <td>0</td>\n",
              "      <td>Plotting annotations while visualizing your da...</td>\n",
              "      <td>#datavisualization #datascience #data #dataana...</td>\n",
              "    </tr>\n",
              "  </tbody>\n",
              "</table>\n",
              "</div>"
            ],
            "text/plain": [
              "   Impressions  From Home  From Hashtags  From Explore  From Other  Saves  Comments  Shares  Likes  Profile Visits  Follows                                            Caption                                           Hashtags\n",
              "0         3920       2586           1028           619          56     98         9       5    162              35        2  Here are some of the most important data visua...  #finance #money #business #investing #investme...\n",
              "1         5394       2727           1838          1174          78    194         7      14    224              48       10  Here are some of the best data science project...  #healthcare #health #covid #data #datascience ...\n",
              "2         4021       2085           1188             0         533     41        11       1    131              62       12  Learn how to train a machine learning model an...  #data #datascience #dataanalysis #dataanalytic...\n",
              "3         4528       2700            621           932          73    172        10       7    213              23        8  Heres how you can write a Python program to d...  #python #pythonprogramming #pythonprojects #py...\n",
              "4         2518       1704            255           279          37     96         5       4    123               8        0  Plotting annotations while visualizing your da...  #datavisualization #datascience #data #dataana..."
            ]
          },
          "execution_count": 5,
          "metadata": {},
          "output_type": "execute_result"
        }
      ],
      "source": [
        "data.head()"
      ]
    },
    {
      "cell_type": "code",
      "execution_count": 6,
      "metadata": {
        "id": "ax2mZyxhFej-"
      },
      "outputs": [
        {
          "name": "stdout",
          "output_type": "stream",
          "text": [
            "<class 'pandas.core.frame.DataFrame'>\n",
            "RangeIndex: 119 entries, 0 to 118\n",
            "Data columns (total 13 columns):\n",
            " #   Column          Non-Null Count  Dtype \n",
            "---  ------          --------------  ----- \n",
            " 0   Impressions     119 non-null    int64 \n",
            " 1   From Home       119 non-null    int64 \n",
            " 2   From Hashtags   119 non-null    int64 \n",
            " 3   From Explore    119 non-null    int64 \n",
            " 4   From Other      119 non-null    int64 \n",
            " 5   Saves           119 non-null    int64 \n",
            " 6   Comments        119 non-null    int64 \n",
            " 7   Shares          119 non-null    int64 \n",
            " 8   Likes           119 non-null    int64 \n",
            " 9   Profile Visits  119 non-null    int64 \n",
            " 10  Follows         119 non-null    int64 \n",
            " 11  Caption         119 non-null    object\n",
            " 12  Hashtags        119 non-null    object\n",
            "dtypes: int64(11), object(2)\n",
            "memory usage: 12.2+ KB\n"
          ]
        }
      ],
      "source": [
        "data.info()"
      ]
    },
    {
      "cell_type": "code",
      "execution_count": 7,
      "metadata": {},
      "outputs": [
        {
          "data": {
            "text/plain": [
              "Impressions       0\n",
              "From Home         0\n",
              "From Hashtags     0\n",
              "From Explore      0\n",
              "From Other        0\n",
              "Saves             0\n",
              "Comments          0\n",
              "Shares            0\n",
              "Likes             0\n",
              "Profile Visits    0\n",
              "Follows           0\n",
              "Caption           0\n",
              "Hashtags          0\n",
              "dtype: int64"
            ]
          },
          "execution_count": 7,
          "metadata": {},
          "output_type": "execute_result"
        }
      ],
      "source": [
        "data.isnull().sum()"
      ]
    },
    {
      "cell_type": "code",
      "execution_count": 9,
      "metadata": {},
      "outputs": [
        {
          "data": {
            "text/html": [
              "<div>\n",
              "<style scoped>\n",
              "    .dataframe tbody tr th:only-of-type {\n",
              "        vertical-align: middle;\n",
              "    }\n",
              "\n",
              "    .dataframe tbody tr th {\n",
              "        vertical-align: top;\n",
              "    }\n",
              "\n",
              "    .dataframe thead th {\n",
              "        text-align: right;\n",
              "    }\n",
              "</style>\n",
              "<table border=\"1\" class=\"dataframe\">\n",
              "  <thead>\n",
              "    <tr style=\"text-align: right;\">\n",
              "      <th></th>\n",
              "      <th>Impressions</th>\n",
              "      <th>From Home</th>\n",
              "      <th>From Hashtags</th>\n",
              "      <th>From Explore</th>\n",
              "      <th>From Other</th>\n",
              "      <th>Saves</th>\n",
              "      <th>Comments</th>\n",
              "      <th>Shares</th>\n",
              "      <th>Likes</th>\n",
              "      <th>Profile Visits</th>\n",
              "      <th>Follows</th>\n",
              "    </tr>\n",
              "  </thead>\n",
              "  <tbody>\n",
              "    <tr>\n",
              "      <th>count</th>\n",
              "      <td>119.000</td>\n",
              "      <td>119.000</td>\n",
              "      <td>119.000</td>\n",
              "      <td>119.000</td>\n",
              "      <td>119.000</td>\n",
              "      <td>119.000</td>\n",
              "      <td>119.000</td>\n",
              "      <td>119.000</td>\n",
              "      <td>119.000</td>\n",
              "      <td>119.000</td>\n",
              "      <td>119.000</td>\n",
              "    </tr>\n",
              "    <tr>\n",
              "      <th>mean</th>\n",
              "      <td>5703.992</td>\n",
              "      <td>2475.790</td>\n",
              "      <td>1887.513</td>\n",
              "      <td>1078.101</td>\n",
              "      <td>171.092</td>\n",
              "      <td>153.311</td>\n",
              "      <td>6.664</td>\n",
              "      <td>9.361</td>\n",
              "      <td>173.782</td>\n",
              "      <td>50.622</td>\n",
              "      <td>20.756</td>\n",
              "    </tr>\n",
              "    <tr>\n",
              "      <th>std</th>\n",
              "      <td>4843.780</td>\n",
              "      <td>1489.386</td>\n",
              "      <td>1884.361</td>\n",
              "      <td>2613.026</td>\n",
              "      <td>289.431</td>\n",
              "      <td>156.318</td>\n",
              "      <td>3.545</td>\n",
              "      <td>10.089</td>\n",
              "      <td>82.379</td>\n",
              "      <td>87.088</td>\n",
              "      <td>40.922</td>\n",
              "    </tr>\n",
              "    <tr>\n",
              "      <th>min</th>\n",
              "      <td>1941.000</td>\n",
              "      <td>1133.000</td>\n",
              "      <td>116.000</td>\n",
              "      <td>0.000</td>\n",
              "      <td>9.000</td>\n",
              "      <td>22.000</td>\n",
              "      <td>0.000</td>\n",
              "      <td>0.000</td>\n",
              "      <td>72.000</td>\n",
              "      <td>4.000</td>\n",
              "      <td>0.000</td>\n",
              "    </tr>\n",
              "    <tr>\n",
              "      <th>25%</th>\n",
              "      <td>3467.000</td>\n",
              "      <td>1945.000</td>\n",
              "      <td>726.000</td>\n",
              "      <td>157.500</td>\n",
              "      <td>38.000</td>\n",
              "      <td>65.000</td>\n",
              "      <td>4.000</td>\n",
              "      <td>3.000</td>\n",
              "      <td>121.500</td>\n",
              "      <td>15.000</td>\n",
              "      <td>4.000</td>\n",
              "    </tr>\n",
              "    <tr>\n",
              "      <th>50%</th>\n",
              "      <td>4289.000</td>\n",
              "      <td>2207.000</td>\n",
              "      <td>1278.000</td>\n",
              "      <td>326.000</td>\n",
              "      <td>74.000</td>\n",
              "      <td>109.000</td>\n",
              "      <td>6.000</td>\n",
              "      <td>6.000</td>\n",
              "      <td>151.000</td>\n",
              "      <td>23.000</td>\n",
              "      <td>8.000</td>\n",
              "    </tr>\n",
              "    <tr>\n",
              "      <th>75%</th>\n",
              "      <td>6138.000</td>\n",
              "      <td>2602.500</td>\n",
              "      <td>2363.500</td>\n",
              "      <td>689.500</td>\n",
              "      <td>196.000</td>\n",
              "      <td>169.000</td>\n",
              "      <td>8.000</td>\n",
              "      <td>13.500</td>\n",
              "      <td>204.000</td>\n",
              "      <td>42.000</td>\n",
              "      <td>18.000</td>\n",
              "    </tr>\n",
              "    <tr>\n",
              "      <th>max</th>\n",
              "      <td>36919.000</td>\n",
              "      <td>13473.000</td>\n",
              "      <td>11817.000</td>\n",
              "      <td>17414.000</td>\n",
              "      <td>2547.000</td>\n",
              "      <td>1095.000</td>\n",
              "      <td>19.000</td>\n",
              "      <td>75.000</td>\n",
              "      <td>549.000</td>\n",
              "      <td>611.000</td>\n",
              "      <td>260.000</td>\n",
              "    </tr>\n",
              "  </tbody>\n",
              "</table>\n",
              "</div>"
            ],
            "text/plain": [
              "       Impressions  From Home  From Hashtags  From Explore  From Other    Saves  Comments  Shares   Likes  Profile Visits  Follows\n",
              "count      119.000    119.000        119.000       119.000     119.000  119.000   119.000 119.000 119.000         119.000  119.000\n",
              "mean      5703.992   2475.790       1887.513      1078.101     171.092  153.311     6.664   9.361 173.782          50.622   20.756\n",
              "std       4843.780   1489.386       1884.361      2613.026     289.431  156.318     3.545  10.089  82.379          87.088   40.922\n",
              "min       1941.000   1133.000        116.000         0.000       9.000   22.000     0.000   0.000  72.000           4.000    0.000\n",
              "25%       3467.000   1945.000        726.000       157.500      38.000   65.000     4.000   3.000 121.500          15.000    4.000\n",
              "50%       4289.000   2207.000       1278.000       326.000      74.000  109.000     6.000   6.000 151.000          23.000    8.000\n",
              "75%       6138.000   2602.500       2363.500       689.500     196.000  169.000     8.000  13.500 204.000          42.000   18.000\n",
              "max      36919.000  13473.000      11817.000     17414.000    2547.000 1095.000    19.000  75.000 549.000         611.000  260.000"
            ]
          },
          "execution_count": 9,
          "metadata": {},
          "output_type": "execute_result"
        }
      ],
      "source": [
        "data.describe()"
      ]
    },
    {
      "cell_type": "code",
      "execution_count": 12,
      "metadata": {},
      "outputs": [
        {
          "name": "stdout",
          "output_type": "stream",
          "text": [
            "Numerical columns are: ['Impressions', 'From Home', 'From Hashtags', 'From Explore', 'From Other', 'Saves', 'Comments', 'Shares', 'Likes', 'Profile Visits', 'Follows']\n",
            "Categorical columns are: ['Caption', 'Hashtags']\n"
          ]
        },
        {
          "data": {
            "text/plain": [
              "{'numerical': ['Impressions',\n",
              "  'From Home',\n",
              "  'From Hashtags',\n",
              "  'From Explore',\n",
              "  'From Other',\n",
              "  'Saves',\n",
              "  'Comments',\n",
              "  'Shares',\n",
              "  'Likes',\n",
              "  'Profile Visits',\n",
              "  'Follows'],\n",
              " 'categorical': ['Caption', 'Hashtags'],\n",
              " 'other': []}"
            ]
          },
          "execution_count": 12,
          "metadata": {},
          "output_type": "execute_result"
        }
      ],
      "source": [
        "get_column_types(data,verbose=True)"
      ]
    },
    {
      "cell_type": "code",
      "execution_count": 8,
      "metadata": {},
      "outputs": [
        {
          "data": {
            "image/png": "[encoded data removed]",
            "text/plain": [
              "<Figure size 1500x300 with 1 Axes>"
            ]
          },
          "metadata": {},
          "output_type": "display_data"
        }
      ],
      "source": [
        "klib.dist_plot(data['Impressions']);"
      ]
    },
    {
      "cell_type": "code",
      "execution_count": null,
      "metadata": {},
      "outputs": [],
      "source": []
    },
    {
      "cell_type": "code",
      "execution_count": null,
      "metadata": {},
      "outputs": [],
      "source": []
    },
    {
      "cell_type": "code",
      "execution_count": null,
      "metadata": {},
      "outputs": [],
      "source": []
    },
    {
      "cell_type": "code",
      "execution_count": null,
      "metadata": {},
      "outputs": [],
      "source": []
    },
    {
      "cell_type": "code",
      "execution_count": null,
      "metadata": {},
      "outputs": [],
      "source": []
    }
  ],
  "metadata": {
    "accelerator": "GPU",
    "colab": {
      "authorship_tag": "ABX9TyMIye7eWismdORxciaRX4Nn",
      "gpuType": "T4",
      "mount_file_id": "1a_UtveDUhWAdZoHTXNfD22CGCxf74ESv",
      "provenance": [],
      "toc_visible": true
    },
    "kernelspec": {
      "display_name": "Python 3",
      "name": "python3"
    },
    "language_info": {
      "codemirror_mode": {
        "name": "ipython",
        "version": 3
      },
      "file_extension": ".py",
      "mimetype": "text/x-python",
      "name": "python",
      "nbconvert_exporter": "python",
      "pygments_lexer": "ipython3",
      "version": "3.10.5"
    }
  },
  "nbformat": 4,
  "nbformat_minor": 0
}
